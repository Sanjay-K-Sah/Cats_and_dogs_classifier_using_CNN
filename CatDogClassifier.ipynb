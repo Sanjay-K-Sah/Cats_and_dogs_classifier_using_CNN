{
  "cells": [
    {
      "cell_type": "code",
      "execution_count": 1,
      "metadata": {
        "id": "LV2U4iGVYt3G"
      },
      "outputs": [],
      "source": [
        "import pandas as pd\n",
        "import numpy as np\n",
        "import matplotlib.pyplot as plt\n",
        "from tensorflow.keras.models import Sequential\n",
        "from tensorflow.keras.layers import Conv2D, MaxPooling2D, Dense, Dropout, Flatten\n",
        "from tensorflow.keras.preprocessing.image import ImageDataGenerator\n",
        "from tensorflow.keras.layers import BatchNormalization"
      ]
    },
    {
      "cell_type": "code",
      "execution_count": 2,
      "metadata": {
        "id": "t9DHXk5vhG5l"
      },
      "outputs": [],
      "source": [
        "#To unzip zipfile\n",
        "\n",
        "# from zipfile import ZipFile\n",
        "# file_path = \"/content/cats_and_dogs.zip\"\n",
        "# file_name = file_path\n",
        "\n",
        "# with ZipFile(file_name, 'r') as zip:\n",
        "#    zip.extractall()\n",
        "#    print('Done')"
      ]
    },
    {
      "cell_type": "code",
      "execution_count": 3,
      "metadata": {
        "colab": {
          "base_uri": "https://localhost:8080/"
        },
        "id": "AexQiHUQbDq0",
        "outputId": "b7fc994e-d29d-47d4-db14-67d330f0b520"
      },
      "outputs": [
        {
          "output_type": "stream",
          "name": "stdout",
          "text": [
            "Found 2000 images belonging to 2 classes.\n",
            "Found 1000 images belonging to 2 classes.\n"
          ]
        }
      ],
      "source": [
        "# Generating images for the Test set\n",
        "train_datagen = ImageDataGenerator( rescale = 1.0/255.,rotation_range=40, width_shift_range=0.2,\n",
        "height_shift_range=0.2,\n",
        "shear_range=0.2,\n",
        "zoom_range=0.2,\n",
        "horizontal_flip=True )\n",
        "\n",
        "test_datagen  = ImageDataGenerator( rescale = 1.0/255. )\n",
        "# Creating training set\n",
        "training_set = train_datagen.flow_from_directory('/content/cats_and_dogs/train',\n",
        "                                                 target_size = (100, 100),\n",
        "                                                 batch_size = 32,\n",
        "                                                 class_mode = 'binary')\n",
        "# Creating the Test set\n",
        "test_set = test_datagen.flow_from_directory('/content/cats_and_dogs/validation',\n",
        "                                            target_size = (100, 100),\n",
        "                                            batch_size = 32,\n",
        "                                            class_mode = 'binary')"
      ]
    },
    {
      "cell_type": "code",
      "execution_count": 4,
      "metadata": {
        "colab": {
          "base_uri": "https://localhost:8080/"
        },
        "id": "NxPLm2AMG19S",
        "outputId": "f4117b7d-3e27-4790-9a0e-0052553cdfee"
      },
      "outputs": [
        {
          "output_type": "stream",
          "name": "stdout",
          "text": [
            "{'cats': 0, 'dogs': 1}\n"
          ]
        }
      ],
      "source": [
        "print(training_set.class_indices)"
      ]
    },
    {
      "cell_type": "code",
      "execution_count": 5,
      "metadata": {
        "id": "gClcPlS8emp0"
      },
      "outputs": [],
      "source": [
        "model = Sequential()\n",
        "\n",
        "model.add(Conv2D(32, (3,3), activation = 'relu', input_shape = (100, 100, 3)))\n",
        "model.add(MaxPooling2D((2,2)))\n",
        "\n",
        "model.add(Conv2D(64, (3,3), activation = 'relu'))\n",
        "model.add(MaxPooling2D((2,2)))\n",
        "\n",
        "model.add(Conv2D(128, (3,3), activation = 'relu'))\n",
        "model.add(MaxPooling2D((2,2)))\n",
        "\n",
        "model.add(Flatten())\n",
        "model.add(Dense(512, activation = 'relu'))\n",
        "model.add(Dense(1, activation = 'sigmoid'))"
      ]
    },
    {
      "cell_type": "code",
      "execution_count": 6,
      "metadata": {
        "id": "NGcvUvwLQU0M"
      },
      "outputs": [],
      "source": [
        "#model.add(Conv2D(32,(3,3),activation='relu',input_shape=(Image_Width,Image_Height,Image_Channels)))\n",
        "#Image_Size=(Image_Width,Image_Height)\n",
        "\n",
        "\n",
        "# model=Sequential()\n",
        "\n",
        "# model.add(Conv2D(32,(3,3),activation='relu',input_shape=(128, 128, 3)))\n",
        "# model.add(BatchNormalization())\n",
        "# model.add(MaxPooling2D(pool_size=(2,2)))\n",
        "# model.add(Dropout(0.25))\n",
        "\n",
        "# model.add(Conv2D(64,(3,3),activation='relu'))\n",
        "# model.add(BatchNormalization())\n",
        "# model.add(MaxPooling2D(pool_size=(2,2)))\n",
        "# model.add(Dropout(0.25))\n",
        "\n",
        "# model.add(Conv2D(128,(3,3),activation='relu'))\n",
        "# model.add(BatchNormalization())\n",
        "# model.add(MaxPooling2D(pool_size=(2,2)))\n",
        "# model.add(Dropout(0.25))\n",
        "\n",
        "# model.add(Flatten())\n",
        "# model.add(Dense(512,activation='relu'))\n",
        "# model.add(BatchNormalization())\n",
        "# model.add(Dropout(0.5))\n",
        "# model.add(Dense(2,activation='softmax'))"
      ]
    },
    {
      "cell_type": "code",
      "execution_count": 7,
      "metadata": {
        "colab": {
          "base_uri": "https://localhost:8080/"
        },
        "id": "DCoHxSefsLSs",
        "outputId": "e3f39d06-0614-4dda-9cc1-41f1ec205bcd"
      },
      "outputs": [
        {
          "output_type": "stream",
          "name": "stdout",
          "text": [
            "Model: \"sequential\"\n",
            "_________________________________________________________________\n",
            " Layer (type)                Output Shape              Param #   \n",
            "=================================================================\n",
            " conv2d (Conv2D)             (None, 98, 98, 32)        896       \n",
            "                                                                 \n",
            " max_pooling2d (MaxPooling2D  (None, 49, 49, 32)       0         \n",
            " )                                                               \n",
            "                                                                 \n",
            " conv2d_1 (Conv2D)           (None, 47, 47, 64)        18496     \n",
            "                                                                 \n",
            " max_pooling2d_1 (MaxPooling  (None, 23, 23, 64)       0         \n",
            " 2D)                                                             \n",
            "                                                                 \n",
            " conv2d_2 (Conv2D)           (None, 21, 21, 128)       73856     \n",
            "                                                                 \n",
            " max_pooling2d_2 (MaxPooling  (None, 10, 10, 128)      0         \n",
            " 2D)                                                             \n",
            "                                                                 \n",
            " flatten (Flatten)           (None, 12800)             0         \n",
            "                                                                 \n",
            " dense (Dense)               (None, 512)               6554112   \n",
            "                                                                 \n",
            " dense_1 (Dense)             (None, 1)                 513       \n",
            "                                                                 \n",
            "=================================================================\n",
            "Total params: 6,647,873\n",
            "Trainable params: 6,647,873\n",
            "Non-trainable params: 0\n",
            "_________________________________________________________________\n"
          ]
        }
      ],
      "source": [
        "model.summary()"
      ]
    },
    {
      "cell_type": "code",
      "execution_count": 8,
      "metadata": {
        "id": "QpFB-zzK5Hlp"
      },
      "outputs": [],
      "source": [
        "from tensorflow.keras.optimizers import Adam\n",
        "\n",
        "model.compile(optimizer='Adam',\n",
        "               loss='binary_crossentropy',\n",
        "              metrics = ['accuracy'])"
      ]
    },
    {
      "cell_type": "code",
      "execution_count": 9,
      "metadata": {
        "colab": {
          "base_uri": "https://localhost:8080/"
        },
        "id": "dkIAVXSldPGC",
        "outputId": "b5db1885-9b4c-48c1-d1fb-84d3fdfd2e9e"
      },
      "outputs": [
        {
          "output_type": "stream",
          "name": "stdout",
          "text": [
            "Epoch 1/200\n",
            "30/30 [==============================] - 37s 1s/step - loss: 0.7173 - accuracy: 0.5021 - val_loss: 0.6927 - val_accuracy: 0.5021\n",
            "Epoch 2/200\n",
            "30/30 [==============================] - 29s 966ms/step - loss: 0.6947 - accuracy: 0.5094 - val_loss: 0.6909 - val_accuracy: 0.5198\n",
            "Epoch 3/200\n",
            "30/30 [==============================] - 30s 1s/step - loss: 0.6948 - accuracy: 0.4746 - val_loss: 0.6932 - val_accuracy: 0.5104\n",
            "Epoch 4/200\n",
            "30/30 [==============================] - 29s 982ms/step - loss: 0.6950 - accuracy: 0.5360 - val_loss: 0.6919 - val_accuracy: 0.5354\n",
            "Epoch 5/200\n",
            "30/30 [==============================] - 29s 979ms/step - loss: 0.6942 - accuracy: 0.5094 - val_loss: 0.6883 - val_accuracy: 0.5312\n",
            "Epoch 6/200\n",
            "30/30 [==============================] - 29s 976ms/step - loss: 0.6927 - accuracy: 0.5508 - val_loss: 0.6920 - val_accuracy: 0.5375\n",
            "Epoch 7/200\n",
            "30/30 [==============================] - 30s 998ms/step - loss: 0.6921 - accuracy: 0.4938 - val_loss: 0.6912 - val_accuracy: 0.5510\n",
            "Epoch 8/200\n",
            "30/30 [==============================] - 29s 988ms/step - loss: 0.6912 - accuracy: 0.5360 - val_loss: 0.6891 - val_accuracy: 0.5469\n",
            "Epoch 9/200\n",
            "30/30 [==============================] - 29s 979ms/step - loss: 0.6808 - accuracy: 0.5667 - val_loss: 0.6787 - val_accuracy: 0.5844\n",
            "Epoch 10/200\n",
            "30/30 [==============================] - 30s 991ms/step - loss: 0.6749 - accuracy: 0.5646 - val_loss: 0.6947 - val_accuracy: 0.5271\n",
            "Epoch 11/200\n",
            "30/30 [==============================] - 30s 990ms/step - loss: 0.6912 - accuracy: 0.5396 - val_loss: 0.6768 - val_accuracy: 0.5719\n",
            "Epoch 12/200\n",
            "30/30 [==============================] - 29s 980ms/step - loss: 0.6840 - accuracy: 0.5740 - val_loss: 0.6631 - val_accuracy: 0.5969\n",
            "Epoch 13/200\n",
            "30/30 [==============================] - 29s 978ms/step - loss: 0.6699 - accuracy: 0.5858 - val_loss: 0.6534 - val_accuracy: 0.6250\n",
            "Epoch 14/200\n",
            "30/30 [==============================] - 30s 996ms/step - loss: 0.6712 - accuracy: 0.5792 - val_loss: 0.6417 - val_accuracy: 0.6438\n",
            "Epoch 15/200\n",
            "30/30 [==============================] - 30s 1s/step - loss: 0.6642 - accuracy: 0.6042 - val_loss: 0.6796 - val_accuracy: 0.5719\n",
            "Epoch 16/200\n",
            "30/30 [==============================] - 30s 1s/step - loss: 0.6600 - accuracy: 0.6144 - val_loss: 0.6207 - val_accuracy: 0.6625\n",
            "Epoch 17/200\n",
            "30/30 [==============================] - 30s 991ms/step - loss: 0.6513 - accuracy: 0.6345 - val_loss: 0.6321 - val_accuracy: 0.6250\n",
            "Epoch 18/200\n",
            "30/30 [==============================] - 30s 996ms/step - loss: 0.6335 - accuracy: 0.6260 - val_loss: 0.6360 - val_accuracy: 0.6240\n",
            "Epoch 19/200\n",
            "30/30 [==============================] - 30s 1s/step - loss: 0.6248 - accuracy: 0.6375 - val_loss: 0.6110 - val_accuracy: 0.6500\n",
            "Epoch 20/200\n",
            "30/30 [==============================] - 30s 1s/step - loss: 0.6343 - accuracy: 0.6375 - val_loss: 0.6013 - val_accuracy: 0.6677\n",
            "Epoch 21/200\n",
            "30/30 [==============================] - 29s 969ms/step - loss: 0.6227 - accuracy: 0.6552 - val_loss: 0.6119 - val_accuracy: 0.6635\n",
            "Epoch 22/200\n",
            "30/30 [==============================] - 29s 959ms/step - loss: 0.6183 - accuracy: 0.6542 - val_loss: 0.5994 - val_accuracy: 0.6635\n",
            "Epoch 23/200\n",
            "30/30 [==============================] - 30s 1s/step - loss: 0.6026 - accuracy: 0.6740 - val_loss: 0.6214 - val_accuracy: 0.6062\n",
            "Epoch 24/200\n",
            "30/30 [==============================] - 29s 958ms/step - loss: 0.6288 - accuracy: 0.6521 - val_loss: 0.6006 - val_accuracy: 0.6708\n",
            "Epoch 25/200\n",
            "30/30 [==============================] - 28s 934ms/step - loss: 0.5946 - accuracy: 0.6960 - val_loss: 0.6040 - val_accuracy: 0.6625\n",
            "Epoch 26/200\n",
            "30/30 [==============================] - 28s 939ms/step - loss: 0.5931 - accuracy: 0.6917 - val_loss: 0.5862 - val_accuracy: 0.6719\n",
            "Epoch 27/200\n",
            "30/30 [==============================] - 28s 941ms/step - loss: 0.6098 - accuracy: 0.6642 - val_loss: 0.5792 - val_accuracy: 0.6906\n",
            "Epoch 28/200\n",
            "30/30 [==============================] - 29s 979ms/step - loss: 0.5823 - accuracy: 0.6854 - val_loss: 0.5728 - val_accuracy: 0.6979\n",
            "Epoch 29/200\n",
            "30/30 [==============================] - 30s 996ms/step - loss: 0.5639 - accuracy: 0.7140 - val_loss: 0.5606 - val_accuracy: 0.7125\n",
            "Epoch 30/200\n",
            "30/30 [==============================] - 29s 985ms/step - loss: 0.5852 - accuracy: 0.6811 - val_loss: 0.5842 - val_accuracy: 0.6875\n",
            "Epoch 31/200\n",
            "30/30 [==============================] - 30s 1s/step - loss: 0.6070 - accuracy: 0.6578 - val_loss: 0.5725 - val_accuracy: 0.6854\n",
            "Epoch 32/200\n",
            "30/30 [==============================] - 30s 1s/step - loss: 0.5784 - accuracy: 0.6979 - val_loss: 0.5920 - val_accuracy: 0.6729\n",
            "Epoch 33/200\n",
            "30/30 [==============================] - 30s 989ms/step - loss: 0.5829 - accuracy: 0.7031 - val_loss: 0.5563 - val_accuracy: 0.7052\n",
            "Epoch 34/200\n",
            "30/30 [==============================] - 29s 981ms/step - loss: 0.5555 - accuracy: 0.7240 - val_loss: 0.5825 - val_accuracy: 0.6896\n",
            "Epoch 35/200\n",
            "30/30 [==============================] - 29s 981ms/step - loss: 0.5703 - accuracy: 0.7044 - val_loss: 0.5582 - val_accuracy: 0.7125\n",
            "Epoch 36/200\n",
            "30/30 [==============================] - 29s 981ms/step - loss: 0.5864 - accuracy: 0.6992 - val_loss: 0.5784 - val_accuracy: 0.6802\n",
            "Epoch 37/200\n",
            "30/30 [==============================] - 29s 958ms/step - loss: 0.5607 - accuracy: 0.7087 - val_loss: 0.5579 - val_accuracy: 0.7042\n",
            "Epoch 38/200\n",
            "30/30 [==============================] - 28s 945ms/step - loss: 0.5520 - accuracy: 0.7240 - val_loss: 0.5583 - val_accuracy: 0.7115\n",
            "Epoch 39/200\n",
            "30/30 [==============================] - 29s 968ms/step - loss: 0.5530 - accuracy: 0.7267 - val_loss: 0.5652 - val_accuracy: 0.7188\n",
            "Epoch 40/200\n",
            "30/30 [==============================] - 29s 971ms/step - loss: 0.5572 - accuracy: 0.7052 - val_loss: 0.5752 - val_accuracy: 0.6938\n",
            "Epoch 41/200\n",
            "30/30 [==============================] - 30s 993ms/step - loss: 0.5587 - accuracy: 0.7260 - val_loss: 0.5614 - val_accuracy: 0.6771\n",
            "Epoch 42/200\n",
            "30/30 [==============================] - 30s 990ms/step - loss: 0.5270 - accuracy: 0.7309 - val_loss: 0.5430 - val_accuracy: 0.7292\n",
            "Epoch 43/200\n",
            "30/30 [==============================] - 30s 994ms/step - loss: 0.5613 - accuracy: 0.7002 - val_loss: 0.5805 - val_accuracy: 0.7010\n",
            "Epoch 44/200\n",
            "30/30 [==============================] - 30s 993ms/step - loss: 0.5582 - accuracy: 0.7052 - val_loss: 0.5458 - val_accuracy: 0.7083\n",
            "Epoch 45/200\n",
            "30/30 [==============================] - 30s 989ms/step - loss: 0.5367 - accuracy: 0.7323 - val_loss: 0.5528 - val_accuracy: 0.7146\n",
            "Epoch 46/200\n",
            "30/30 [==============================] - 30s 1s/step - loss: 0.5464 - accuracy: 0.7312 - val_loss: 0.5326 - val_accuracy: 0.7260\n",
            "Epoch 47/200\n",
            "30/30 [==============================] - 30s 998ms/step - loss: 0.5420 - accuracy: 0.7447 - val_loss: 0.5472 - val_accuracy: 0.7198\n",
            "Epoch 48/200\n",
            "30/30 [==============================] - 29s 981ms/step - loss: 0.5962 - accuracy: 0.6653 - val_loss: 0.5961 - val_accuracy: 0.6583\n",
            "Epoch 49/200\n",
            "30/30 [==============================] - 30s 988ms/step - loss: 0.5454 - accuracy: 0.7097 - val_loss: 0.5747 - val_accuracy: 0.6760\n",
            "Epoch 50/200\n",
            "30/30 [==============================] - 30s 1s/step - loss: 0.5455 - accuracy: 0.7344 - val_loss: 0.5562 - val_accuracy: 0.7104\n",
            "Epoch 51/200\n",
            "30/30 [==============================] - 30s 1s/step - loss: 0.5165 - accuracy: 0.7375 - val_loss: 0.5538 - val_accuracy: 0.7188\n",
            "Epoch 52/200\n",
            "30/30 [==============================] - 30s 989ms/step - loss: 0.5243 - accuracy: 0.7373 - val_loss: 0.5684 - val_accuracy: 0.7000\n",
            "Epoch 53/200\n",
            "30/30 [==============================] - 29s 981ms/step - loss: 0.5055 - accuracy: 0.7426 - val_loss: 0.5780 - val_accuracy: 0.7000\n",
            "Epoch 54/200\n",
            "30/30 [==============================] - 30s 988ms/step - loss: 0.5265 - accuracy: 0.7344 - val_loss: 0.5328 - val_accuracy: 0.7365\n",
            "Epoch 55/200\n",
            "30/30 [==============================] - 29s 956ms/step - loss: 0.5246 - accuracy: 0.7458 - val_loss: 0.5345 - val_accuracy: 0.7177\n",
            "Epoch 56/200\n",
            "30/30 [==============================] - 28s 937ms/step - loss: 0.5491 - accuracy: 0.7278 - val_loss: 0.5482 - val_accuracy: 0.7073\n",
            "Epoch 57/200\n",
            "30/30 [==============================] - 28s 936ms/step - loss: 0.5555 - accuracy: 0.7129 - val_loss: 0.5742 - val_accuracy: 0.6990\n",
            "Epoch 58/200\n",
            "30/30 [==============================] - 28s 949ms/step - loss: 0.5343 - accuracy: 0.7312 - val_loss: 0.5259 - val_accuracy: 0.7375\n",
            "Epoch 59/200\n",
            "30/30 [==============================] - 28s 938ms/step - loss: 0.5264 - accuracy: 0.7250 - val_loss: 0.5318 - val_accuracy: 0.6979\n",
            "Epoch 60/200\n",
            "30/30 [==============================] - 29s 966ms/step - loss: 0.5327 - accuracy: 0.7469 - val_loss: 0.5260 - val_accuracy: 0.7281\n",
            "Epoch 61/200\n",
            "30/30 [==============================] - 30s 989ms/step - loss: 0.5279 - accuracy: 0.7417 - val_loss: 0.6113 - val_accuracy: 0.6510\n",
            "Epoch 62/200\n",
            "30/30 [==============================] - 29s 981ms/step - loss: 0.5307 - accuracy: 0.7302 - val_loss: 0.5464 - val_accuracy: 0.7156\n",
            "Epoch 63/200\n",
            "30/30 [==============================] - 29s 968ms/step - loss: 0.5337 - accuracy: 0.7362 - val_loss: 0.5283 - val_accuracy: 0.7281\n",
            "Epoch 64/200\n",
            "30/30 [==============================] - 30s 989ms/step - loss: 0.4665 - accuracy: 0.7771 - val_loss: 0.5237 - val_accuracy: 0.7260\n",
            "Epoch 65/200\n",
            "30/30 [==============================] - 33s 1s/step - loss: 0.5131 - accuracy: 0.7406 - val_loss: 0.5219 - val_accuracy: 0.7406\n",
            "Epoch 66/200\n",
            "30/30 [==============================] - 30s 987ms/step - loss: 0.4977 - accuracy: 0.7656 - val_loss: 0.5765 - val_accuracy: 0.6979\n",
            "Epoch 67/200\n",
            "30/30 [==============================] - 29s 977ms/step - loss: 0.5453 - accuracy: 0.7225 - val_loss: 0.5561 - val_accuracy: 0.6875\n",
            "Epoch 68/200\n",
            "30/30 [==============================] - 29s 962ms/step - loss: 0.5045 - accuracy: 0.7574 - val_loss: 0.5516 - val_accuracy: 0.7094\n",
            "Epoch 69/200\n",
            "30/30 [==============================] - 30s 987ms/step - loss: 0.5033 - accuracy: 0.7406 - val_loss: 0.5395 - val_accuracy: 0.7219\n",
            "Epoch 70/200\n",
            "30/30 [==============================] - 30s 989ms/step - loss: 0.5543 - accuracy: 0.7104 - val_loss: 0.5683 - val_accuracy: 0.6802\n",
            "Epoch 71/200\n",
            "30/30 [==============================] - 29s 968ms/step - loss: 0.5123 - accuracy: 0.7394 - val_loss: 0.5097 - val_accuracy: 0.7375\n",
            "Epoch 72/200\n",
            "30/30 [==============================] - 29s 981ms/step - loss: 0.5118 - accuracy: 0.7323 - val_loss: 0.5514 - val_accuracy: 0.7250\n",
            "Epoch 73/200\n",
            "30/30 [==============================] - 29s 975ms/step - loss: 0.4815 - accuracy: 0.7677 - val_loss: 0.5753 - val_accuracy: 0.6948\n",
            "Epoch 74/200\n",
            "30/30 [==============================] - 29s 985ms/step - loss: 0.5165 - accuracy: 0.7458 - val_loss: 0.5195 - val_accuracy: 0.7344\n",
            "Epoch 75/200\n",
            "30/30 [==============================] - 29s 965ms/step - loss: 0.4980 - accuracy: 0.7510 - val_loss: 0.5117 - val_accuracy: 0.7458\n",
            "Epoch 76/200\n",
            "30/30 [==============================] - 28s 936ms/step - loss: 0.4708 - accuracy: 0.7807 - val_loss: 0.5421 - val_accuracy: 0.7437\n",
            "Epoch 77/200\n",
            "30/30 [==============================] - 29s 960ms/step - loss: 0.5073 - accuracy: 0.7458 - val_loss: 0.5104 - val_accuracy: 0.7448\n",
            "Epoch 78/200\n",
            "30/30 [==============================] - 28s 949ms/step - loss: 0.5034 - accuracy: 0.7542 - val_loss: 0.5079 - val_accuracy: 0.7490\n",
            "Epoch 79/200\n",
            "30/30 [==============================] - 29s 957ms/step - loss: 0.4877 - accuracy: 0.7627 - val_loss: 0.5071 - val_accuracy: 0.7354\n",
            "Epoch 80/200\n",
            "30/30 [==============================] - 29s 958ms/step - loss: 0.4867 - accuracy: 0.7500 - val_loss: 0.5334 - val_accuracy: 0.7281\n",
            "Epoch 81/200\n",
            "30/30 [==============================] - 29s 982ms/step - loss: 0.4934 - accuracy: 0.7500 - val_loss: 0.5294 - val_accuracy: 0.7385\n",
            "Epoch 82/200\n",
            "30/30 [==============================] - 29s 960ms/step - loss: 0.4977 - accuracy: 0.7604 - val_loss: 0.5254 - val_accuracy: 0.7510\n",
            "Epoch 83/200\n",
            "30/30 [==============================] - 28s 948ms/step - loss: 0.4886 - accuracy: 0.7740 - val_loss: 0.5182 - val_accuracy: 0.7479\n",
            "Epoch 84/200\n",
            "30/30 [==============================] - 28s 942ms/step - loss: 0.4729 - accuracy: 0.7659 - val_loss: 0.5701 - val_accuracy: 0.7240\n",
            "Epoch 85/200\n",
            "30/30 [==============================] - 28s 940ms/step - loss: 0.5085 - accuracy: 0.7458 - val_loss: 0.5284 - val_accuracy: 0.7292\n",
            "Epoch 86/200\n",
            "30/30 [==============================] - 28s 938ms/step - loss: 0.5034 - accuracy: 0.7564 - val_loss: 0.5337 - val_accuracy: 0.7312\n",
            "Epoch 87/200\n",
            "30/30 [==============================] - 29s 958ms/step - loss: 0.5229 - accuracy: 0.7281 - val_loss: 0.5171 - val_accuracy: 0.7281\n",
            "Epoch 88/200\n",
            "30/30 [==============================] - 28s 948ms/step - loss: 0.4701 - accuracy: 0.7792 - val_loss: 0.5231 - val_accuracy: 0.7406\n",
            "Epoch 89/200\n",
            "30/30 [==============================] - 29s 962ms/step - loss: 0.4717 - accuracy: 0.7615 - val_loss: 0.5116 - val_accuracy: 0.7552\n",
            "Epoch 90/200\n",
            "30/30 [==============================] - 28s 946ms/step - loss: 0.4939 - accuracy: 0.7573 - val_loss: 0.5832 - val_accuracy: 0.6969\n",
            "Epoch 91/200\n",
            "30/30 [==============================] - 28s 946ms/step - loss: 0.4753 - accuracy: 0.7765 - val_loss: 0.5072 - val_accuracy: 0.7469\n",
            "Epoch 92/200\n",
            "30/30 [==============================] - 28s 949ms/step - loss: 0.4696 - accuracy: 0.7656 - val_loss: 0.5158 - val_accuracy: 0.7292\n",
            "Epoch 93/200\n",
            "30/30 [==============================] - 28s 929ms/step - loss: 0.4914 - accuracy: 0.7680 - val_loss: 0.5229 - val_accuracy: 0.7437\n",
            "Epoch 94/200\n",
            "30/30 [==============================] - 28s 931ms/step - loss: 0.4564 - accuracy: 0.7966 - val_loss: 0.5179 - val_accuracy: 0.7312\n",
            "Epoch 95/200\n",
            "30/30 [==============================] - 28s 939ms/step - loss: 0.4503 - accuracy: 0.7892 - val_loss: 0.5967 - val_accuracy: 0.6698\n",
            "Epoch 96/200\n",
            "30/30 [==============================] - 28s 933ms/step - loss: 0.4872 - accuracy: 0.7648 - val_loss: 0.5123 - val_accuracy: 0.7469\n",
            "Epoch 97/200\n",
            "30/30 [==============================] - 29s 955ms/step - loss: 0.4820 - accuracy: 0.7532 - val_loss: 0.5236 - val_accuracy: 0.7312\n",
            "Epoch 98/200\n",
            "30/30 [==============================] - 28s 941ms/step - loss: 0.4694 - accuracy: 0.7807 - val_loss: 0.5418 - val_accuracy: 0.7354\n",
            "Epoch 99/200\n",
            "30/30 [==============================] - 29s 984ms/step - loss: 0.4748 - accuracy: 0.7729 - val_loss: 0.5498 - val_accuracy: 0.7354\n",
            "Epoch 100/200\n",
            "30/30 [==============================] - 29s 963ms/step - loss: 0.4822 - accuracy: 0.7733 - val_loss: 0.5021 - val_accuracy: 0.7594\n",
            "Epoch 101/200\n",
            "30/30 [==============================] - 28s 942ms/step - loss: 0.5133 - accuracy: 0.7312 - val_loss: 0.5040 - val_accuracy: 0.7531\n",
            "Epoch 102/200\n",
            "30/30 [==============================] - 28s 933ms/step - loss: 0.4843 - accuracy: 0.7617 - val_loss: 0.4945 - val_accuracy: 0.7688\n",
            "Epoch 103/200\n",
            "30/30 [==============================] - 28s 937ms/step - loss: 0.4496 - accuracy: 0.7896 - val_loss: 0.5121 - val_accuracy: 0.7437\n",
            "Epoch 104/200\n",
            "30/30 [==============================] - 28s 921ms/step - loss: 0.4519 - accuracy: 0.7966 - val_loss: 0.4997 - val_accuracy: 0.7500\n",
            "Epoch 105/200\n",
            "30/30 [==============================] - 28s 928ms/step - loss: 0.4629 - accuracy: 0.7775 - val_loss: 0.5722 - val_accuracy: 0.7323\n",
            "Epoch 106/200\n",
            "30/30 [==============================] - 28s 929ms/step - loss: 0.4662 - accuracy: 0.7573 - val_loss: 0.5293 - val_accuracy: 0.7302\n",
            "Epoch 107/200\n",
            "30/30 [==============================] - 28s 931ms/step - loss: 0.4496 - accuracy: 0.7875 - val_loss: 0.4887 - val_accuracy: 0.7563\n",
            "Epoch 108/200\n",
            "30/30 [==============================] - 28s 938ms/step - loss: 0.4846 - accuracy: 0.7552 - val_loss: 0.5088 - val_accuracy: 0.7531\n",
            "Epoch 109/200\n",
            "30/30 [==============================] - 28s 937ms/step - loss: 0.4814 - accuracy: 0.7775 - val_loss: 0.5152 - val_accuracy: 0.7375\n",
            "Epoch 110/200\n",
            "30/30 [==============================] - 28s 931ms/step - loss: 0.4607 - accuracy: 0.7606 - val_loss: 0.4884 - val_accuracy: 0.7729\n",
            "Epoch 111/200\n",
            "30/30 [==============================] - 28s 938ms/step - loss: 0.4669 - accuracy: 0.7844 - val_loss: 0.4965 - val_accuracy: 0.7542\n",
            "Epoch 112/200\n",
            "30/30 [==============================] - 29s 959ms/step - loss: 0.4158 - accuracy: 0.8062 - val_loss: 0.5218 - val_accuracy: 0.7563\n",
            "Epoch 113/200\n",
            "30/30 [==============================] - 28s 935ms/step - loss: 0.4416 - accuracy: 0.8083 - val_loss: 0.5483 - val_accuracy: 0.7344\n",
            "Epoch 114/200\n",
            "30/30 [==============================] - 28s 941ms/step - loss: 0.4538 - accuracy: 0.7998 - val_loss: 0.5698 - val_accuracy: 0.7271\n",
            "Epoch 115/200\n",
            "30/30 [==============================] - 28s 941ms/step - loss: 0.4624 - accuracy: 0.7839 - val_loss: 0.5229 - val_accuracy: 0.7385\n",
            "Epoch 116/200\n",
            "30/30 [==============================] - 29s 971ms/step - loss: 0.4902 - accuracy: 0.7765 - val_loss: 0.4935 - val_accuracy: 0.7677\n",
            "Epoch 117/200\n",
            "30/30 [==============================] - 29s 978ms/step - loss: 0.4588 - accuracy: 0.7906 - val_loss: 0.5023 - val_accuracy: 0.7531\n",
            "Epoch 118/200\n",
            "30/30 [==============================] - 29s 972ms/step - loss: 0.4579 - accuracy: 0.7802 - val_loss: 0.5299 - val_accuracy: 0.7396\n",
            "Epoch 119/200\n",
            "30/30 [==============================] - 29s 966ms/step - loss: 0.4879 - accuracy: 0.7760 - val_loss: 0.4833 - val_accuracy: 0.7656\n",
            "Epoch 120/200\n",
            "30/30 [==============================] - 28s 951ms/step - loss: 0.4657 - accuracy: 0.7860 - val_loss: 0.4937 - val_accuracy: 0.7500\n",
            "Epoch 121/200\n",
            "30/30 [==============================] - 29s 960ms/step - loss: 0.4605 - accuracy: 0.7765 - val_loss: 0.4998 - val_accuracy: 0.7646\n",
            "Epoch 122/200\n",
            "30/30 [==============================] - 29s 966ms/step - loss: 0.4461 - accuracy: 0.7948 - val_loss: 0.5102 - val_accuracy: 0.7542\n",
            "Epoch 123/200\n",
            "30/30 [==============================] - 29s 961ms/step - loss: 0.4278 - accuracy: 0.8051 - val_loss: 0.6833 - val_accuracy: 0.7104\n",
            "Epoch 124/200\n",
            "30/30 [==============================] - 29s 957ms/step - loss: 0.4349 - accuracy: 0.7987 - val_loss: 0.5022 - val_accuracy: 0.7667\n",
            "Epoch 125/200\n",
            "30/30 [==============================] - 29s 957ms/step - loss: 0.4204 - accuracy: 0.8198 - val_loss: 0.5034 - val_accuracy: 0.7677\n",
            "Epoch 126/200\n",
            "30/30 [==============================] - 28s 950ms/step - loss: 0.4303 - accuracy: 0.7865 - val_loss: 0.5149 - val_accuracy: 0.7479\n",
            "Epoch 127/200\n",
            "30/30 [==============================] - 29s 959ms/step - loss: 0.4190 - accuracy: 0.8010 - val_loss: 0.4716 - val_accuracy: 0.7802\n",
            "Epoch 128/200\n",
            "30/30 [==============================] - 28s 948ms/step - loss: 0.4377 - accuracy: 0.8021 - val_loss: 0.4868 - val_accuracy: 0.7760\n",
            "Epoch 129/200\n",
            "30/30 [==============================] - 28s 923ms/step - loss: 0.4122 - accuracy: 0.8030 - val_loss: 0.5327 - val_accuracy: 0.7563\n",
            "Epoch 130/200\n",
            "30/30 [==============================] - 28s 939ms/step - loss: 0.4081 - accuracy: 0.8219 - val_loss: 0.5176 - val_accuracy: 0.7563\n",
            "Epoch 131/200\n",
            "30/30 [==============================] - 28s 925ms/step - loss: 0.4534 - accuracy: 0.7913 - val_loss: 0.4977 - val_accuracy: 0.7573\n",
            "Epoch 132/200\n",
            "30/30 [==============================] - 28s 934ms/step - loss: 0.4346 - accuracy: 0.8031 - val_loss: 0.4895 - val_accuracy: 0.7760\n",
            "Epoch 133/200\n",
            "30/30 [==============================] - 28s 922ms/step - loss: 0.4371 - accuracy: 0.7966 - val_loss: 0.5287 - val_accuracy: 0.7531\n",
            "Epoch 134/200\n",
            "30/30 [==============================] - 28s 925ms/step - loss: 0.4162 - accuracy: 0.8072 - val_loss: 0.4641 - val_accuracy: 0.7937\n",
            "Epoch 135/200\n",
            "30/30 [==============================] - 28s 925ms/step - loss: 0.4031 - accuracy: 0.8125 - val_loss: 0.5355 - val_accuracy: 0.7625\n",
            "Epoch 136/200\n",
            "30/30 [==============================] - 28s 935ms/step - loss: 0.4220 - accuracy: 0.8062 - val_loss: 0.4678 - val_accuracy: 0.7792\n",
            "Epoch 137/200\n",
            "30/30 [==============================] - 28s 931ms/step - loss: 0.4119 - accuracy: 0.8115 - val_loss: 0.4859 - val_accuracy: 0.7719\n",
            "Epoch 138/200\n",
            "30/30 [==============================] - 28s 937ms/step - loss: 0.4364 - accuracy: 0.7937 - val_loss: 0.5146 - val_accuracy: 0.7594\n",
            "Epoch 139/200\n",
            "30/30 [==============================] - 28s 927ms/step - loss: 0.4030 - accuracy: 0.8157 - val_loss: 0.5265 - val_accuracy: 0.7479\n",
            "Epoch 140/200\n",
            "30/30 [==============================] - 28s 941ms/step - loss: 0.4178 - accuracy: 0.8146 - val_loss: 0.5128 - val_accuracy: 0.7563\n",
            "Epoch 141/200\n",
            "30/30 [==============================] - 28s 945ms/step - loss: 0.4034 - accuracy: 0.8167 - val_loss: 0.5047 - val_accuracy: 0.7656\n",
            "Epoch 142/200\n",
            "30/30 [==============================] - 28s 936ms/step - loss: 0.4064 - accuracy: 0.8231 - val_loss: 0.5054 - val_accuracy: 0.7615\n",
            "Epoch 143/200\n",
            "30/30 [==============================] - 28s 926ms/step - loss: 0.4118 - accuracy: 0.8231 - val_loss: 0.5308 - val_accuracy: 0.7490\n",
            "Epoch 144/200\n",
            "30/30 [==============================] - 28s 933ms/step - loss: 0.4045 - accuracy: 0.8260 - val_loss: 0.4804 - val_accuracy: 0.7865\n",
            "Epoch 145/200\n",
            "30/30 [==============================] - 28s 933ms/step - loss: 0.4363 - accuracy: 0.8052 - val_loss: 0.5076 - val_accuracy: 0.7469\n",
            "Epoch 146/200\n",
            "30/30 [==============================] - 28s 943ms/step - loss: 0.4132 - accuracy: 0.8115 - val_loss: 0.5278 - val_accuracy: 0.7583\n",
            "Epoch 147/200\n",
            "30/30 [==============================] - 29s 968ms/step - loss: 0.4279 - accuracy: 0.7998 - val_loss: 0.4805 - val_accuracy: 0.7802\n",
            "Epoch 148/200\n",
            "30/30 [==============================] - 29s 980ms/step - loss: 0.3877 - accuracy: 0.8240 - val_loss: 0.4788 - val_accuracy: 0.7802\n",
            "Epoch 149/200\n",
            "30/30 [==============================] - 29s 969ms/step - loss: 0.4224 - accuracy: 0.7998 - val_loss: 0.4945 - val_accuracy: 0.7667\n",
            "Epoch 150/200\n",
            "30/30 [==============================] - 29s 968ms/step - loss: 0.3975 - accuracy: 0.8177 - val_loss: 0.4936 - val_accuracy: 0.7844\n",
            "Epoch 151/200\n",
            "30/30 [==============================] - 29s 960ms/step - loss: 0.4092 - accuracy: 0.8284 - val_loss: 0.4979 - val_accuracy: 0.7781\n",
            "Epoch 152/200\n",
            "30/30 [==============================] - 29s 974ms/step - loss: 0.3985 - accuracy: 0.8302 - val_loss: 0.4505 - val_accuracy: 0.7896\n",
            "Epoch 153/200\n",
            "30/30 [==============================] - 29s 963ms/step - loss: 0.3763 - accuracy: 0.8354 - val_loss: 0.5361 - val_accuracy: 0.7760\n",
            "Epoch 154/200\n",
            "30/30 [==============================] - 29s 969ms/step - loss: 0.3710 - accuracy: 0.8365 - val_loss: 0.4857 - val_accuracy: 0.7708\n",
            "Epoch 155/200\n",
            "30/30 [==============================] - 29s 954ms/step - loss: 0.4064 - accuracy: 0.8019 - val_loss: 0.4714 - val_accuracy: 0.7875\n",
            "Epoch 156/200\n",
            "30/30 [==============================] - 29s 983ms/step - loss: 0.3791 - accuracy: 0.8294 - val_loss: 0.4846 - val_accuracy: 0.7771\n",
            "Epoch 157/200\n",
            "30/30 [==============================] - 29s 978ms/step - loss: 0.3832 - accuracy: 0.8284 - val_loss: 0.5081 - val_accuracy: 0.7594\n",
            "Epoch 158/200\n",
            "30/30 [==============================] - 30s 996ms/step - loss: 0.4008 - accuracy: 0.8167 - val_loss: 0.5151 - val_accuracy: 0.7635\n",
            "Epoch 159/200\n",
            "30/30 [==============================] - 29s 977ms/step - loss: 0.3819 - accuracy: 0.8369 - val_loss: 0.4915 - val_accuracy: 0.7781\n",
            "Epoch 160/200\n",
            "30/30 [==============================] - 29s 977ms/step - loss: 0.3965 - accuracy: 0.8252 - val_loss: 0.5161 - val_accuracy: 0.7656\n",
            "Epoch 161/200\n",
            "30/30 [==============================] - 30s 992ms/step - loss: 0.3817 - accuracy: 0.8305 - val_loss: 0.5267 - val_accuracy: 0.7698\n",
            "Epoch 162/200\n",
            "30/30 [==============================] - 30s 995ms/step - loss: 0.3897 - accuracy: 0.8347 - val_loss: 0.4900 - val_accuracy: 0.7854\n",
            "Epoch 163/200\n",
            "30/30 [==============================] - 30s 990ms/step - loss: 0.3814 - accuracy: 0.8219 - val_loss: 0.4892 - val_accuracy: 0.7854\n",
            "Epoch 164/200\n",
            "30/30 [==============================] - 30s 992ms/step - loss: 0.3821 - accuracy: 0.8292 - val_loss: 0.4678 - val_accuracy: 0.7844\n",
            "Epoch 165/200\n",
            "30/30 [==============================] - 30s 989ms/step - loss: 0.3781 - accuracy: 0.8220 - val_loss: 0.4911 - val_accuracy: 0.7750\n",
            "Epoch 166/200\n",
            "30/30 [==============================] - 29s 983ms/step - loss: 0.3564 - accuracy: 0.8273 - val_loss: 0.5056 - val_accuracy: 0.7792\n",
            "Epoch 167/200\n",
            "30/30 [==============================] - 30s 996ms/step - loss: 0.3709 - accuracy: 0.8390 - val_loss: 0.5817 - val_accuracy: 0.7667\n",
            "Epoch 168/200\n",
            "30/30 [==============================] - 30s 1s/step - loss: 0.3792 - accuracy: 0.8263 - val_loss: 0.5477 - val_accuracy: 0.7708\n",
            "Epoch 169/200\n",
            "30/30 [==============================] - 30s 1s/step - loss: 0.3884 - accuracy: 0.8146 - val_loss: 0.5028 - val_accuracy: 0.7594\n",
            "Epoch 170/200\n",
            "30/30 [==============================] - 30s 1s/step - loss: 0.3931 - accuracy: 0.8198 - val_loss: 0.4925 - val_accuracy: 0.7802\n",
            "Epoch 171/200\n",
            "30/30 [==============================] - 30s 996ms/step - loss: 0.3679 - accuracy: 0.8354 - val_loss: 0.5453 - val_accuracy: 0.7563\n",
            "Epoch 172/200\n",
            "30/30 [==============================] - 29s 958ms/step - loss: 0.3665 - accuracy: 0.8375 - val_loss: 0.5081 - val_accuracy: 0.7781\n",
            "Epoch 173/200\n",
            "30/30 [==============================] - 29s 971ms/step - loss: 0.3657 - accuracy: 0.8333 - val_loss: 0.5009 - val_accuracy: 0.7740\n",
            "Epoch 174/200\n",
            "30/30 [==============================] - 29s 969ms/step - loss: 0.3677 - accuracy: 0.8396 - val_loss: 0.5232 - val_accuracy: 0.7823\n",
            "Epoch 175/200\n",
            "30/30 [==============================] - 29s 976ms/step - loss: 0.3732 - accuracy: 0.8326 - val_loss: 0.5415 - val_accuracy: 0.7688\n",
            "Epoch 176/200\n",
            "30/30 [==============================] - 29s 974ms/step - loss: 0.3444 - accuracy: 0.8443 - val_loss: 0.4911 - val_accuracy: 0.7792\n",
            "Epoch 177/200\n",
            "30/30 [==============================] - 30s 1s/step - loss: 0.3538 - accuracy: 0.8458 - val_loss: 0.5314 - val_accuracy: 0.7781\n",
            "Epoch 178/200\n",
            "30/30 [==============================] - 29s 982ms/step - loss: 0.3426 - accuracy: 0.8517 - val_loss: 0.5353 - val_accuracy: 0.7781\n",
            "Epoch 179/200\n",
            "30/30 [==============================] - 30s 987ms/step - loss: 0.3938 - accuracy: 0.8302 - val_loss: 0.4699 - val_accuracy: 0.7833\n",
            "Epoch 180/200\n",
            "30/30 [==============================] - 29s 985ms/step - loss: 0.3655 - accuracy: 0.8475 - val_loss: 0.6017 - val_accuracy: 0.7542\n",
            "Epoch 181/200\n",
            "30/30 [==============================] - 29s 978ms/step - loss: 0.3670 - accuracy: 0.8354 - val_loss: 0.5000 - val_accuracy: 0.7729\n",
            "Epoch 182/200\n",
            "30/30 [==============================] - 29s 980ms/step - loss: 0.3308 - accuracy: 0.8538 - val_loss: 0.4955 - val_accuracy: 0.7792\n",
            "Epoch 183/200\n",
            "30/30 [==============================] - 30s 986ms/step - loss: 0.3685 - accuracy: 0.8496 - val_loss: 0.6110 - val_accuracy: 0.7427\n",
            "Epoch 184/200\n",
            "30/30 [==============================] - 31s 1s/step - loss: 0.4069 - accuracy: 0.8115 - val_loss: 0.4937 - val_accuracy: 0.7594\n",
            "Epoch 185/200\n",
            "30/30 [==============================] - 30s 1s/step - loss: 0.3552 - accuracy: 0.8464 - val_loss: 0.5615 - val_accuracy: 0.7656\n",
            "Epoch 186/200\n",
            "30/30 [==============================] - 30s 1s/step - loss: 0.3615 - accuracy: 0.8333 - val_loss: 0.5411 - val_accuracy: 0.7625\n",
            "Epoch 187/200\n",
            "30/30 [==============================] - 30s 1s/step - loss: 0.3467 - accuracy: 0.8448 - val_loss: 0.4767 - val_accuracy: 0.8010\n",
            "Epoch 188/200\n",
            "30/30 [==============================] - 30s 1s/step - loss: 0.3955 - accuracy: 0.8167 - val_loss: 0.4853 - val_accuracy: 0.7865\n",
            "Epoch 189/200\n",
            "30/30 [==============================] - 30s 1s/step - loss: 0.3452 - accuracy: 0.8573 - val_loss: 0.5529 - val_accuracy: 0.7646\n",
            "Epoch 190/200\n",
            "30/30 [==============================] - 30s 1s/step - loss: 0.3277 - accuracy: 0.8538 - val_loss: 0.5321 - val_accuracy: 0.7760\n",
            "Epoch 191/200\n",
            "30/30 [==============================] - 30s 1s/step - loss: 0.3437 - accuracy: 0.8443 - val_loss: 0.6085 - val_accuracy: 0.7656\n",
            "Epoch 192/200\n",
            "30/30 [==============================] - 30s 1s/step - loss: 0.3646 - accuracy: 0.8337 - val_loss: 0.5292 - val_accuracy: 0.7615\n",
            "Epoch 193/200\n",
            "30/30 [==============================] - 31s 1s/step - loss: 0.3736 - accuracy: 0.8344 - val_loss: 0.5102 - val_accuracy: 0.7812\n",
            "Epoch 194/200\n",
            "30/30 [==============================] - 30s 1s/step - loss: 0.3591 - accuracy: 0.8417 - val_loss: 0.5305 - val_accuracy: 0.7594\n",
            "Epoch 195/200\n",
            "30/30 [==============================] - 29s 996ms/step - loss: 0.3339 - accuracy: 0.8665 - val_loss: 0.6283 - val_accuracy: 0.7312\n",
            "Epoch 196/200\n",
            "30/30 [==============================] - 30s 1s/step - loss: 0.3365 - accuracy: 0.8490 - val_loss: 0.5569 - val_accuracy: 0.7698\n",
            "Epoch 197/200\n",
            "30/30 [==============================] - 30s 987ms/step - loss: 0.3309 - accuracy: 0.8496 - val_loss: 0.4732 - val_accuracy: 0.7917\n",
            "Epoch 198/200\n",
            "30/30 [==============================] - 30s 987ms/step - loss: 0.3227 - accuracy: 0.8719 - val_loss: 0.5096 - val_accuracy: 0.7812\n",
            "Epoch 199/200\n",
            "30/30 [==============================] - 30s 996ms/step - loss: 0.3237 - accuracy: 0.8604 - val_loss: 0.5284 - val_accuracy: 0.7823\n",
            "Epoch 200/200\n",
            "30/30 [==============================] - 31s 1s/step - loss: 0.3505 - accuracy: 0.8333 - val_loss: 0.5414 - val_accuracy: 0.7594\n"
          ]
        }
      ],
      "source": [
        "history = model.fit(training_set,\n",
        "                    steps_per_epoch=30, \n",
        "                    epochs=200, \n",
        "                    validation_data=test_set, \n",
        "                    validation_steps=30) "
      ]
    },
    {
      "cell_type": "code",
      "source": [
        "model.evaluate(test_set)[1]"
      ],
      "metadata": {
        "colab": {
          "base_uri": "https://localhost:8080/"
        },
        "id": "hEhpt-xB3LNa",
        "outputId": "7c2856f7-5053-4609-9f23-c86ac23af8bb"
      },
      "execution_count": 10,
      "outputs": [
        {
          "output_type": "stream",
          "name": "stdout",
          "text": [
            "32/32 [==============================] - 8s 233ms/step - loss: 0.5387 - accuracy: 0.7620\n"
          ]
        },
        {
          "output_type": "execute_result",
          "data": {
            "text/plain": [
              "0.7620000243186951"
            ]
          },
          "metadata": {},
          "execution_count": 10
        }
      ]
    },
    {
      "cell_type": "code",
      "source": [
        "model.evaluate(training_set)[1]"
      ],
      "metadata": {
        "colab": {
          "base_uri": "https://localhost:8080/"
        },
        "id": "3waHg2sHlN_I",
        "outputId": "212cf328-818b-46d3-a695-c1b298a74cd2"
      },
      "execution_count": 14,
      "outputs": [
        {
          "output_type": "stream",
          "name": "stdout",
          "text": [
            "63/63 [==============================] - 20s 322ms/step - loss: 0.3525 - accuracy: 0.8435\n"
          ]
        },
        {
          "output_type": "execute_result",
          "data": {
            "text/plain": [
              "0.843500018119812"
            ]
          },
          "metadata": {},
          "execution_count": 14
        }
      ]
    },
    {
      "cell_type": "code",
      "execution_count": 15,
      "metadata": {
        "colab": {
          "base_uri": "https://localhost:8080/",
          "height": 562
        },
        "id": "bqZiwcE68B9Q",
        "outputId": "7e79feaa-4f56-4977-acaa-e3baa921fcc0"
      },
      "outputs": [
        {
          "output_type": "execute_result",
          "data": {
            "text/plain": [
              "Text(0.5, 1.0, 'Training and validation loss')"
            ]
          },
          "metadata": {},
          "execution_count": 15
        },
        {
          "output_type": "display_data",
          "data": {
            "text/plain": [
              "<Figure size 432x288 with 1 Axes>"
            ],
            "image/png": "[encoded data removed]"
          },
          "metadata": {
            "needs_background": "light"
          }
        },
        {
          "output_type": "display_data",
          "data": {
            "text/plain": [
              "<Figure size 432x288 with 1 Axes>"
            ],
            "image/png": "[encoded data removed]"
          },
          "metadata": {
            "needs_background": "light"
          }
        }
      ],
      "source": [
        "#-----------------------------------------------------------\n",
        "# Retrieve a list of list results on training and test data\n",
        "# sets for each training epoch\n",
        "#-----------------------------------------------------------\n",
        "acc = history.history['accuracy']\n",
        "val_acc = history.history['val_accuracy']\n",
        "loss = history.history['loss']\n",
        "val_loss = history.history['val_loss']\n",
        "\n",
        "epochs = range(len(acc)) # Get number of epochs\n",
        "\n",
        "#------------------------------------------------\n",
        "# Plot training and validation accuracy per epoch\n",
        "#------------------------------------------------\n",
        "plt.plot(epochs, acc)\n",
        "plt.plot(epochs, val_acc)\n",
        "plt.title('Training and validation accuracy')\n",
        "plt.figure()\n",
        "\n",
        "#------------------------------------------------\n",
        "# Plot training and validation loss per epoch\n",
        "#------------------------------------------------\n",
        "plt.plot(epochs, loss)\n",
        "plt.plot(epochs, val_loss)\n",
        "plt.title('Training and validation loss')"
      ]
    },
    {
      "cell_type": "code",
      "execution_count": 21,
      "metadata": {
        "colab": {
          "resources": {
            "http://localhost:8080/nbextensions/google.colab/files.js": {
              "data": "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",
              "ok": true,
              "headers": [
                [
                  "content-type",
                  "application/javascript"
                ]
              ],
              "status": 200,
              "status_text": ""
            }
          },
          "base_uri": "https://localhost:8080/",
          "height": 108
        },
        "id": "DHv3GJLo4F0p",
        "outputId": "d98a3163-77aa-4a8a-f78a-29a0c867b5cd"
      },
      "outputs": [
        {
          "output_type": "display_data",
          "data": {
            "text/plain": [
              "<IPython.core.display.HTML object>"
            ],
            "text/html": [
              "\n",
              "     <input type=\"file\" id=\"files-da69f0db-56a3-4e93-ab35-a94c858afa31\" name=\"files[]\" multiple disabled\n",
              "        style=\"border:none\" />\n",
              "     <output id=\"result-da69f0db-56a3-4e93-ab35-a94c858afa31\">\n",
              "      Upload widget is only available when the cell has been executed in the\n",
              "      current browser session. Please rerun this cell to enable.\n",
              "      </output>\n",
              "      <script src=\"/nbextensions/google.colab/files.js\"></script> "
            ]
          },
          "metadata": {}
        },
        {
          "output_type": "stream",
          "name": "stdout",
          "text": [
            "Saving download (2).jpg to download (2).jpg\n",
            "[1.]\n",
            "download (2).jpg is a dog\n"
          ]
        }
      ],
      "source": [
        "import numpy as np\n",
        "\n",
        "from google.colab import files\n",
        "from keras.preprocessing import image\n",
        "\n",
        "uploaded=files.upload()\n",
        "\n",
        "for fn in uploaded.keys():\n",
        " \n",
        "  # predicting images\n",
        "  path='/content/' + fn\n",
        "  img=image.load_img(path, target_size=(100, 100))\n",
        "  \n",
        "  x=image.img_to_array(img)\n",
        "  x=np.expand_dims(x, axis=0)\n",
        "  images = np.vstack([x])\n",
        "  \n",
        "  classes = model.predict(images, batch_size=32)\n",
        "  \n",
        "  print(classes[0])\n",
        "  \n",
        "  if classes[0]>0:\n",
        "    print(fn + \" is a dog\")\n",
        "    \n",
        "  else:\n",
        "    print(fn + \" is a cat\")\n",
        " "
      ]
    },
    {
      "cell_type": "code",
      "execution_count": 18,
      "metadata": {
        "id": "gOUPWu50d5nl"
      },
      "outputs": [],
      "source": [
        "model.save('cats_and_dogs.h5')"
      ]
    },
    {
      "cell_type": "code",
      "source": [
        ""
      ],
      "metadata": {
        "id": "7R9EbYSil_7l"
      },
      "execution_count": null,
      "outputs": []
    }
  ],
  "metadata": {
    "colab": {
      "name": "CatDogClassifier.ipynb",
      "provenance": [],
      "collapsed_sections": []
    },
    "kernelspec": {
      "display_name": "Python 3",
      "name": "python3"
    },
    "language_info": {
      "name": "python"
    }
  },
  "nbformat": 4,
  "nbformat_minor": 0
}